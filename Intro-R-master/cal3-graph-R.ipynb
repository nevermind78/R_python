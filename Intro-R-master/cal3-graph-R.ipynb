{
 "cells": [
  {
   "cell_type": "markdown",
   "metadata": {},
   "source": [
    "<center>\n",
    "<a href=\"https://www.horizon-university.tn/\" ><img src=\"logohoriz.png\" style=\"float:left; max-width: 120px; display: inline\" alt=\"HORIZON\"/></a> \n",
    "</center>"
   ]
  },
  {
   "cell_type": "markdown",
   "metadata": {},
   "source": [
    "# Fonctions graphiques de <a href=\"https://cran.r-project.org/\"><img src=\"https://cran.r-project.org/Rlogo.svg\" style=\"max-width: 40px; display: inline\" alt=\"R\"/></a>"
   ]
  },
  {
   "cell_type": "markdown",
   "metadata": {},
   "source": [
    "**Résumé** Un rapide aperçu des très riches fonctions graphiques de R pour tracer des camemberts, diagrammes en colonnes, mosaïc plot, histogrammes, diagrammes boîtes, images, contours, vues en 3D, ajouter des composantes graphiques."
   ]
  },
  {
   "cell_type": "markdown",
   "metadata": {},
   "source": [
    "## 1 Introduction\n",
    "Plus un problème et les données afférentes sont complexes, plus est important la pertinence des graphes qui permettront d'en appréhender la structure et visualiser l'information utile. Aussi, quelque soit le logiciel utilisé, commercial comme SAS ou libre comme R, les versions basées sur une interface *amicale* sont évidemment séduisantes, car faciles à utiliser par des menus, mais drastiquement limitées par les choix des options nécessairement très contraints parmi des possibilités considérables. \n",
    "\n",
    "`demo(graphics)` donnera un aperçu de la palette des possibilités tandis qu'une visite à l'un de ces sites : [gallerie 1](http://romainfrancois.blog.free.fr/index.php?tag/graphgallery), [gallerie 2](http://www.sr.bham.ac.uk/~ajrs/R/r-gallery.html), ouvre de vastes perspectives sur les possibilités offertes. \n",
    "\n",
    "C'est la principale raison, qui motive de cheminer par l'apprentissage du langage de commande R plutôt que par celui d'une interface graphique aussi amicale soit-elle. Bien entendu ce tutoriel ne présente que quelques facettes des graphiques les plus utilisés tandis que beaucoup de ressources et sites, comme ceux ci-dessus, rendent accessibles des exemples complexes et ciblés sur des besoins particuliers.\n",
    "\n",
    "**Attention** cependant aux excès d'esthétisme, un *beau* graphique n'est pas nécessairement un graphique *pertinent*; éviter par exemple les abus d'effets de perspective sans signification statistique.\n",
    "\n",
    "Comme pour tout utilisation avancée d'une fonction de R, le recours à l'aide en ligne est incontournable. Apprendre à y naviguer et comprendre sa logique font partie de l'apprentissage.\n",
    "\n",
    "- `help(plot)` offre un premier accès alors que \n",
    "- `help(par)` embrouille vite les cartes.\n",
    "\n",
    "La production des graphiques dans un calepin Jupyter est assez spécifique et offre moins de possibilités que RStudio qui est par ailleurs très intuitif; son usage n'est pas détaillé.\n",
    "\n",
    "Comme les graphiques sont souvent trop encombrants dans un calepin, la commande \n",
    "\n",
    "       options(repr.plot.width=5, repr.plot.height=5)`\n",
    "\n",
    "permet d'en gérer la taille.\n",
    "\n",
    "## 2 Description élémentaire\n",
    "### 2.1 Variables qualitatives\n",
    "Fonctions  `pie, barplot, mosaicplot`."
   ]
  },
  {
   "cell_type": "code",
   "execution_count": null,
   "metadata": {},
   "outputs": [],
   "source": [
    "# Taille des graphiques\n",
    "options(repr.plot.width=4, repr.plot.height=4)\n",
    "vec=c(12,10,7,13,26,16,4,12)\n",
    "pie(vec,clockwise=T)\n",
    "names(vec)=LETTERS[1:8]"
   ]
  },
  {
   "cell_type": "code",
   "execution_count": null,
   "metadata": {},
   "outputs": [],
   "source": [
    "# de très nombreuses options sont disponibles\n",
    "barplot(vec)"
   ]
  },
  {
   "cell_type": "code",
   "execution_count": null,
   "metadata": {},
   "outputs": [],
   "source": [
    "# pour découper la fenêtre en 1 ligne 2 colonnes\n",
    "options(repr.plot.width=8, repr.plot.height=5)\n",
    "par(mfrow=c(1,2))\n",
    "pie(vec)\n",
    "barplot(vec)"
   ]
  },
  {
   "cell_type": "code",
   "execution_count": null,
   "metadata": {},
   "outputs": [],
   "source": [
    "par(mfrow=c(1,1))\n",
    "mosaicplot(Titanic, color = T)"
   ]
  },
  {
   "cell_type": "markdown",
   "metadata": {},
   "source": [
    "**Questions**\n",
    "\n",
    "1. Quelle est la différence entre `par(mfrow=c(2,2))` et `par(mfcol=c(2,2)) ?\n",
    "2. Consulter l'aide en ligne pour tester certains arguments optionnels des fonctions `ie()` et `barplot()`. \n",
    "3. Commenter les commandes suivantes (extraites de l'aide en ligne de `pie()`:"
   ]
  },
  {
   "cell_type": "code",
   "execution_count": null,
   "metadata": {},
   "outputs": [],
   "source": [
    "n=200\n",
    "pie(rep(1,n), labels=\"\", col=rainbow(n), border=NA)"
   ]
  },
  {
   "cell_type": "markdown",
   "metadata": {},
   "source": [
    "**Réponses**\n",
    "1. Les 2 commandes découpent la fenêtre graphique en 4 cellules. Avec `par(mfrow=c(2,2))}` les 4 graphiques à venir sont intégrés ligne par ligne ; avec `ar(mfcol=c(2,2))`, ils le sont colonne par colonne.\n",
    "2. Par exemple, pour modifier les couleurs du camembert:"
   ]
  },
  {
   "cell_type": "code",
   "execution_count": null,
   "metadata": {},
   "outputs": [],
   "source": [
    "pie(vec,col=rgb(0,0,seq(0,1,l=8)))"
   ]
  },
  {
   "cell_type": "code",
   "execution_count": null,
   "metadata": {},
   "outputs": [],
   "source": [
    "pie(vec,col=rainbow(8))"
   ]
  },
  {
   "cell_type": "markdown",
   "metadata": {},
   "source": [
    "3. Commentaire de la ligne de commande :\n",
    "\t- `n=200` La valeur 200 est affectée à `n`.\n",
    "\t- `rep(1,n)` Crée le vecteur de taille `n` ne contenant que des 1.\n",
    "\t- `pie(rep(1,n)` Produit un camembert pour `n` modalités d'effectifs tous égaux à 1. Les secteurs sont donc de même angle.\n",
    "\t- `rainbow(n)` Renvoie un vecteur de longueur `n` contenant un dégradé des couleurs de l'arc-en-ciel.\n",
    "\t- `border=NA` Evite de tracer les bords des secteurs.\n",
    "\t- labels=\"\" Aucune étiquette n'identifie les secteurs.\n",
    "\n",
    "### 2.2 Variables quantitatives\n",
    "Commandes `boxplot, hist, plot`."
   ]
  },
  {
   "cell_type": "code",
   "execution_count": null,
   "metadata": {},
   "outputs": [],
   "source": [
    "options(repr.plot.width=4, repr.plot.height=4)\n",
    "x=rnorm(50)\n",
    "boxplot(x)"
   ]
  },
  {
   "cell_type": "code",
   "execution_count": null,
   "metadata": {},
   "outputs": [],
   "source": [
    "hist(x,col=\"blue\")"
   ]
  },
  {
   "cell_type": "code",
   "execution_count": null,
   "metadata": {},
   "outputs": [],
   "source": [
    "stripchart(x)"
   ]
  },
  {
   "cell_type": "markdown",
   "metadata": {},
   "source": [
    "**Question**\n",
    "\n",
    "- Représenter dans la même fenêtre graphique, le \"stripchart\", le diagramme-boîte horizontal et l'histogramme correspondant l'un sous l'autre.\n",
    "\n",
    "**Réponse**"
   ]
  },
  {
   "cell_type": "code",
   "execution_count": null,
   "metadata": {},
   "outputs": [],
   "source": [
    "options(repr.plot.width=4, repr.plot.height=8)\n",
    "par(mfrow=c(3,1))\n",
    "stripchart(x)\n",
    "boxplot(x,horizontal=T)\n",
    "hist(x)"
   ]
  },
  {
   "cell_type": "markdown",
   "metadata": {},
   "source": [
    "### 2.3 Croisement de variables."
   ]
  },
  {
   "cell_type": "code",
   "execution_count": null,
   "metadata": {},
   "outputs": [],
   "source": [
    "options(repr.plot.width=5, repr.plot.height=5)\n",
    "data(iris)\n",
    "pairs(iris[,1:4])"
   ]
  },
  {
   "cell_type": "code",
   "execution_count": null,
   "metadata": {},
   "outputs": [],
   "source": [
    "par(mfrow=c(2,2))\n",
    "plot(iris[,1],iris[,2],xlab=\"Sepal Length\",ylab=\"Sepal Width\",main=\"Iris data\",col=\"red\",type=\"l\")\n",
    "points(iris[,1],iris[,2],col=\"green\",pch=21)\n",
    "boxplot(iris[,1:4])\n",
    "hist(iris[,1],xlab=\"Sepal Length\",main=\"Histogramme\")"
   ]
  },
  {
   "cell_type": "markdown",
   "metadata": {},
   "source": [
    "### 2.4 Ajouter des éléments graphiques."
   ]
  },
  {
   "cell_type": "code",
   "execution_count": null,
   "metadata": {},
   "outputs": [],
   "source": [
    "x=seq(-10,10,l=50)\n",
    "plot(x,sin(x))"
   ]
  },
  {
   "cell_type": "code",
   "execution_count": null,
   "metadata": {},
   "outputs": [],
   "source": [
    "plot(x,sin(x),type=\"l\")\n",
    "abline(v=0,col=\"blue\",lwd=5,lty=3)\n",
    "abline(h=sin(0.7),col=3)\n",
    "text(-5,-0.5,\"texte\",font=3)"
   ]
  },
  {
   "cell_type": "markdown",
   "metadata": {},
   "source": [
    "Gestion des libellés."
   ]
  },
  {
   "cell_type": "code",
   "execution_count": null,
   "metadata": {},
   "outputs": [],
   "source": [
    "par(mfrow=c(1,2))\n",
    "plot(x,sin(x),type=\"l\",col=1,main=\"sinus\")\n",
    "plot(x,cos(x),type=\"b\",col=3,xlab=\"Abscisses\")"
   ]
  },
  {
   "cell_type": "markdown",
   "metadata": {},
   "source": [
    "## 3 Vers la 3D\n",
    "Commandes `image, persp, contour`."
   ]
  },
  {
   "cell_type": "code",
   "execution_count": null,
   "metadata": {},
   "outputs": [],
   "source": [
    "M=matrix(1:100,nc=10)\n",
    "# images, nappes et contours\n",
    "image(M)"
   ]
  },
  {
   "cell_type": "code",
   "execution_count": null,
   "metadata": {},
   "outputs": [],
   "source": [
    "x = seq(-10, 10, length= 30);y=x\n",
    "f = function(x,y){r=sqrt(x^2+y^2); 10 * sin(r)/r}\n",
    "z = outer(x, y, f)\n",
    "z[is.na(z)] = 1\n",
    "persp(x,y,z)"
   ]
  },
  {
   "cell_type": "code",
   "execution_count": null,
   "metadata": {},
   "outputs": [],
   "source": [
    "persp(x, y, z, theta=30, phi=30,expand = 0.5,col=\"lightblue\")"
   ]
  },
  {
   "cell_type": "code",
   "execution_count": null,
   "metadata": {},
   "outputs": [],
   "source": [
    "image(x,y,z)"
   ]
  },
  {
   "cell_type": "code",
   "execution_count": null,
   "metadata": {},
   "outputs": [],
   "source": [
    "contour(x,y,z)\n",
    "filled.contour(x,y,z)"
   ]
  },
  {
   "cell_type": "code",
   "execution_count": null,
   "metadata": {},
   "outputs": [],
   "source": [
    "image(x,y,z)\n",
    "contour(x,y,z,add=T)"
   ]
  },
  {
   "cell_type": "markdown",
   "metadata": {},
   "source": [
    "Pour mieux comprendre la fonction `outer()`, tester:"
   ]
  },
  {
   "cell_type": "code",
   "execution_count": null,
   "metadata": {},
   "outputs": [],
   "source": [
    "x=y=1:5\n",
    "z=outer(x,y,\"+\");z"
   ]
  },
  {
   "cell_type": "code",
   "execution_count": null,
   "metadata": {
    "collapsed": true
   },
   "outputs": [],
   "source": []
  }
 ],
 "metadata": {
  "kernelspec": {
   "display_name": "R",
   "language": "R",
   "name": "ir"
  },
  "language_info": {
   "codemirror_mode": "r",
   "file_extension": ".r",
   "mimetype": "text/x-r-source",
   "name": "R",
   "pygments_lexer": "r",
   "version": "3.6.1"
  }
 },
 "nbformat": 4,
 "nbformat_minor": 1
}
