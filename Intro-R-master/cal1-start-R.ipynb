{
 "cells": [
  {
   "cell_type": "markdown",
   "metadata": {},
   "source": [
    "<center>\n",
    "<a href=\"https://www.horizon-university.tn/\" ><img src=\"logohoriz.png\" style=\"float:left; max-width: 120px; display: inline\" alt=\"HORIZON\"/></a> \n",
    "</center>"
   ]
  },
  {
   "cell_type": "markdown",
   "metadata": {},
   "source": [
    "# <a href=\"https://cran.r-project.org/\"><img src=\"https://cran.r-project.org/Rlogo.svg\" style=\"max-width: 40px; display: inline\" alt=\"R\"/></a> "
   ]
  },
  {
   "cell_type": "markdown",
   "metadata": {},
   "source": [
    "# Start <a href=\"https://cran.r-project.org/\"><img src=\"https://cran.r-project.org/Rlogo.svg\" style=\"max-width: 40px; display: inline\" alt=\"R\"/></a> pour statisticien"
   ]
  },
  {
   "cell_type": "markdown",
   "metadata": {},
   "source": [
    "**Résumé** Ce tutoriel introduit le logiciel libre R, son environnement et décrit les premières commandes nécessaires au démarrage d'une utilisation de méthodes statistiques avec ce logiciel. Les notions d'estimation, de variabilité et de loi d'un estimateur sont illustrées par des simulations. Les autres tutoriels abordent des fonctionnalités plus complexes.\n",
    "## Premières commandes\n",
    "Entrer les lignes ci-dessous dans la fenêtre de RStudio ou cliquer pour exécuter la cellule."
   ]
  },
  {
   "cell_type": "code",
   "execution_count": null,
   "metadata": {},
   "outputs": [],
   "source": [
    "# Ceci est un commentaire\n",
    "2+2"
   ]
  },
  {
   "cell_type": "code",
   "execution_count": null,
   "metadata": {},
   "outputs": [],
   "source": [
    "sqrt(2)"
   ]
  },
  {
   "cell_type": "code",
   "execution_count": null,
   "metadata": {},
   "outputs": [],
   "source": [
    "a = exp(2)  # création d'une variable scalaire\n",
    "b = a + pi \n",
    "b           # affichage de la valeur"
   ]
  },
  {
   "cell_type": "code",
   "execution_count": null,
   "metadata": {},
   "outputs": [],
   "source": [
    "# liste des variables\n",
    "ls()"
   ]
  },
  {
   "cell_type": "markdown",
   "metadata": {},
   "source": [
    "## Types de variables\n",
    "La *principale difficulté* dans l'utilisation de R réside dans l'identification des types d'objets manipulés."
   ]
  },
  {
   "cell_type": "code",
   "execution_count": null,
   "metadata": {},
   "outputs": [],
   "source": [
    "# Vecteur\n",
    "x = 1:10  # définition d'une séquence\n",
    "x"
   ]
  },
  {
   "cell_type": "code",
   "execution_count": null,
   "metadata": {},
   "outputs": [],
   "source": [
    "y = 2*x + 3\n",
    "y[5] ; y[1:3] ; y[-3]  # composants d'un vecteur"
   ]
  },
  {
   "cell_type": "code",
   "execution_count": null,
   "metadata": {},
   "outputs": [],
   "source": [
    "# Matrice \n",
    "A = matrix(1:15,ncol=5); A\n",
    "B = matrix(1:15,nc=5,byrow=TRUE) ; B\n",
    "A[1,3] ; A[,2] ; A[2,] ; A[1:3,1:3] # composants"
   ]
  },
  {
   "cell_type": "code",
   "execution_count": null,
   "metadata": {},
   "outputs": [],
   "source": [
    "# Liste \n",
    "x=list(mat=A, texte=\"testliste\",vec=y)\n",
    "x[[2]] ; x$vec # composants"
   ]
  },
  {
   "cell_type": "code",
   "execution_count": null,
   "metadata": {},
   "outputs": [],
   "source": [
    "# Base de donnée ou data frame\n",
    "# Tableau contenant des vecteurs de types \n",
    "# éventuellement différents\n",
    "taille = c(147, 132, 156, 167, 156, 140) \n",
    "poids = c( 50, 46, 47, 62, 58, 45)\n",
    "sexe = c(\"M\",\"F\",\"F\",\"M\",\"M\",\"F\")\n",
    "H = data.frame(taille,poids,sexe)\n",
    "H"
   ]
  },
  {
   "cell_type": "code",
   "execution_count": null,
   "metadata": {},
   "outputs": [],
   "source": [
    "summary(H)"
   ]
  },
  {
   "cell_type": "code",
   "execution_count": null,
   "metadata": {},
   "outputs": [],
   "source": [
    "plot(H$poids,H$taille)"
   ]
  },
  {
   "cell_type": "markdown",
   "metadata": {},
   "source": [
    "D'autres fonctionnalités de R sont vues dans les différents scénarios proposées sur le site [Wikistat](http://wikistat.fr/).\n",
    "\n",
    "## Variables et nombres aléatoires\n",
    "Tout en complétant la connaissance de R, cette section propose d'illustrer, par des simulations, les propriétés des estimateurs élémentaires (moyenne, écart-type, histogramme. \n",
    "###Estimation\n",
    "Générer *n* valeurs aléatoires d'une variable *Y* selon une loi normale de moyenne 80 et d'écart-type 5. Décrire sommairement cette série de valeurs. Associer les quantités calculées avec leur traduction en anglais *mean*, *median*, *standard error*, *standard déviation*, s*tandard error mean*."
   ]
  },
  {
   "cell_type": "code",
   "execution_count": null,
   "metadata": {},
   "outputs": [],
   "source": [
    "n=10\n",
    "Y=rnorm(n,80,5)  # génération\n",
    "mean(Y)     # moyenne\n",
    "sd(Y)       # écart-type"
   ]
  },
  {
   "cell_type": "code",
   "execution_count": null,
   "metadata": {},
   "outputs": [],
   "source": [
    "sd(Y)/sqrt(length(Y)) # écart-type de la moyenne"
   ]
  },
  {
   "cell_type": "code",
   "execution_count": null,
   "metadata": {},
   "outputs": [],
   "source": [
    "summary(Y)  # quartiles et moyenne"
   ]
  },
  {
   "cell_type": "code",
   "execution_count": null,
   "metadata": {},
   "outputs": [],
   "source": [
    "boxplot(Y)  # diagramme boîte"
   ]
  },
  {
   "cell_type": "code",
   "execution_count": null,
   "metadata": {},
   "outputs": [],
   "source": [
    "# histogramme de la densité\n",
    "hist(Y, probability=T, col=\"blue\")"
   ]
  },
  {
   "cell_type": "code",
   "execution_count": null,
   "metadata": {},
   "outputs": [],
   "source": [
    "# estimation par la méthode du noyau\n",
    "hist(Y, probability=T, col=\"blue\")\n",
    "lines(density(Y), col=\"red\", lwd=2)"
   ]
  },
  {
   "cell_type": "code",
   "execution_count": null,
   "metadata": {},
   "outputs": [],
   "source": [
    "# tracer la loi théorique\n",
    "x=1:100\n",
    "# Graphes\n",
    "hist(Y, probability=T, col=\"blue\")\n",
    "lines(density(Y), col=\"red\", lwd=2)\n",
    "curve(dnorm(x,mean=80,sd=5),add=TRUE,col=\"green\",lwd=2)"
   ]
  },
  {
   "cell_type": "markdown",
   "metadata": {},
   "source": [
    "### Loi des grands nombres\n",
    "Une moyenne et un écart-type sont la réalisation d'une variable aléatoire appelée *estimateur* ; ce sont des estimations.  \n",
    "Refaire les calculs et graphiques en posant $n=10, n=1000, n=10000$ ; comparer les résultats obtenus, notamment les estimations des indicateurs par rapport aux valeurs théoriques. Etudier leur comportement en fonction de la  taille $n$ de l'échantillon."
   ]
  },
  {
   "cell_type": "code",
   "execution_count": null,
   "metadata": {},
   "outputs": [],
   "source": [
    "n=100\n",
    "# matrice de nombres aléatoires de \n",
    "# 10 colonnes et n lignes\n",
    "Y=matrix(rnorm(n*10,80,5),n,10)\n",
    "# moyenne de chaque colonne\n",
    "apply(Y,2,mean) "
   ]
  },
  {
   "cell_type": "code",
   "execution_count": null,
   "metadata": {},
   "outputs": [],
   "source": [
    "mean(apply(Y,2,mean)) # moyenne des moyennes"
   ]
  },
  {
   "cell_type": "code",
   "execution_count": null,
   "metadata": {},
   "outputs": [],
   "source": [
    "# écart-type de chaque colonne\n",
    "apply(Y,2,sd)\n",
    "mean(apply(Y,2,sd))   # moyenne des écarts-types"
   ]
  },
  {
   "cell_type": "markdown",
   "metadata": {},
   "source": [
    "Faire varier *n=10, 100, 1000* et comparer les résultats obtenus.\n",
    "\n",
    "### Théorème de la limite centrale\n",
    "La simulation proposée illustre le résultat fondamental du théorème de la limite centrale : une somme de variables aléatoires indépendantes et de même loi converge vers une variable aléatoire de loi gaussienne.\n",
    "Le programme ci-dessous exécute les opérations suivantes :\n",
    "\n",
    "- initialisation par des *0* d'un vecteur de taille *n=1000µ,\n",
    "- chaque valeur de ce vecteur est une variable aléatoire *X* obtenue par la somme de *N* variables suivant une loi uniforme sur l'intervalle *[0, 1]*, \n",
    "- estimation de la densité de *X*\n",
    "- comparaison avec la loi théorique limite qui est la loi gaussienne de moyenne *N/2* et de variance *N/12*. \n"
   ]
  },
  {
   "cell_type": "code",
   "execution_count": null,
   "metadata": {},
   "outputs": [],
   "source": [
    "n=1000\n",
    "N=12\n",
    "X=rep(0,n)  \n",
    "# n itérations\n",
    "for (i in 1 : n) X[i]=sum(runif(N))\n",
    "# histogramme\n",
    "hist(X, col=\"blue\", probability=T) \n",
    "# estimation par méthode su noyau\n",
    "lines(density(X), col=\"red\", lwd=2) \n",
    "x=X\n",
    "sigma2=N/12\n",
    "curve(dnorm(x,mean=N/2,sd=sqrt(sigma2)),add=T, col=\"green\", lwd=2) "
   ]
  },
  {
   "cell_type": "markdown",
   "metadata": {},
   "source": [
    "Faire varier *N=4, 8, 12, 20$. Remarquer que la convergence est très rapide. Ceci \"justifie\" la pratique qui revient à considérer que la loi d'un estimateur est gaussienne lorsque *n* est \"suffisamment\" grand avec *n>30*."
   ]
  }
 ],
 "metadata": {
  "kernelspec": {
   "display_name": "R",
   "language": "R",
   "name": "ir"
  },
  "language_info": {
   "codemirror_mode": "r",
   "file_extension": ".r",
   "mimetype": "text/x-r-source",
   "name": "R",
   "pygments_lexer": "r",
   "version": "3.6.1"
  }
 },
 "nbformat": 4,
 "nbformat_minor": 1
}
