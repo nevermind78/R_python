{
 "cells": [
  {
   "cell_type": "markdown",
   "metadata": {},
   "source": [
    "<center>\n",
    "<a href=\"https://www.horizon-university.tn/\" ><img src=\"logohoriz.png\" style=\"float:left; max-width: 120px; display: inline\" alt=\"HORIZON\"/></a> \n",
    "</center>"
   ]
  },
  {
   "cell_type": "markdown",
   "metadata": {},
   "source": [
    "# Programmer en <a href=\"https://cran.r-project.org/\"><img src=\"https://cran.r-project.org/Rlogo.svg\" style=\"max-width: 40px; display: inline\" alt=\"R\"/></a>"
   ]
  },
  {
   "cell_type": "markdown",
   "metadata": {},
   "source": [
    "**Résumé** Un bref aperçu de la syntaxe du langage S mis en \\oe uvre  dans R : fonctions, instructions de\n",
    "contrôle et d'itérations, fonction {\\tt apply}."
   ]
  },
  {
   "cell_type": "markdown",
   "metadata": {},
   "source": [
    "## introduction\n",
    "R est la version *GNU* du langage S conçu initialement aux *Bell labs* par John Chambers à partir de 1975 dans une syntaxe très proche du langage C. En mars 2017, l'index \\href{http://www.tiobe.com/index.php/content/paperinfo/tpci/index.html}{TIOBE} le classe en 14ème position derrière Java (1er) ou Python (5ème) mais devant MATLAB (18) ou SAS (21). \n",
    "\n",
    "## Structure de contrôle\n",
    "Il est important d'intégrer que R, comme Matlab, est un langage interprété donc lent, voire très lent, losqu'il s'agit d'exécuter des boucles. Celles-ci doivent être impérativement évitées dès qu'une syntaxe, impliquant des calculs matriciels ou les commandes de type `apply`, peut se substituer.  \n",
    "\n",
    "### Structures conditionnelles\n",
    "\n",
    "    if(condition) {instructions} \n",
    "\n",
    "est la syntaxe  permettant de calculer les instructions uniquement si la condition est vraie.\n",
    "\n",
    "    if(condition) { A } else { B } \n",
    "    \n",
    "calcule les instructions A si la condition est vraie et les instructions B sinon. Dans l'exemple suivant, les\n",
    "deux commandes sont équivalentes :\n",
    "   \n",
    "      if (x>0) y=x*log(x) else y=0\n",
    "      y=ifelse(x>0,x*log(x),0)"
   ]
  },
  {
   "cell_type": "markdown",
   "metadata": {},
   "source": [
    "### Structures itératives\n",
    "Ces commandes définissent des boucles pour exécuter plusieurs fois une instruction ou un bloc d'instructions. Les trois types de boucle sont :\n",
    "    \n",
    "    for (var in seq) { commandes }\n",
    "    while (condition) { commandes }\n",
    "    repeat { commandes ; if (condition) break }\n",
    "\n",
    "Dans une boucle `for`, le nombre d'itérations est fixe alors qu'il peut être infini pour les boucles `while` et `repeat`! \n",
    "\n",
    "La condition est évaluée avant toute exécution dans `while` alors que `repeat` exécute au moins une fois les commandes."
   ]
  },
  {
   "cell_type": "code",
   "execution_count": null,
   "metadata": {},
   "outputs": [],
   "source": [
    "for (i in 1:10) print(i)\n",
    "y=z=0;\n",
    "for (i in 1:10) {\n",
    "   x=runif(1)\n",
    "   if (x>0.5) y=y+1\n",
    "   else z=z+1 }\n",
    "y;z"
   ]
  },
  {
   "cell_type": "code",
   "execution_count": null,
   "metadata": {},
   "outputs": [],
   "source": [
    "for (i in c(2,4,5,8)) print(i)"
   ]
  },
  {
   "cell_type": "code",
   "execution_count": null,
   "metadata": {},
   "outputs": [],
   "source": [
    "x = rnorm(100)\n",
    "y = ifelse(x>0, 1, -1) # condition\n",
    "y;i=0"
   ]
  },
  {
   "cell_type": "code",
   "execution_count": null,
   "metadata": {},
   "outputs": [],
   "source": [
    "while (i<10){\n",
    "   print(i)\n",
    "   i=i+1}"
   ]
  },
  {
   "cell_type": "markdown",
   "metadata": {},
   "source": [
    "**Questions**\n",
    "\n",
    "1.  Que pensez-vous de : \n",
    "        for (i in 1:length(b)) a[i]=cos(b[i])\n",
    "2.  Obtenir l'équivalent de y et z dans la deuxième boucle `for` ci-dessus mais sans  boucle.\n",
    "3.  Dans l'enchaînement de commandes ci-dessous, supprimer d'abord la boucle `for` sur `j` puis les 2 boucles."
   ]
  },
  {
   "cell_type": "code",
   "execution_count": null,
   "metadata": {},
   "outputs": [],
   "source": [
    "M=matrix(1:20,nr=5,nc=4)\n",
    "res=rep(0,5)\n",
    "for (i in 1:5){\n",
    "   tmp=0\n",
    "   for (j in 1:4) {tmp = tmp + M[i,j]}\n",
    "res[i]=tmp}\n",
    "res"
   ]
  },
  {
   "cell_type": "markdown",
   "metadata": {},
   "source": [
    "**Réponses**\n",
    "\n",
    "1. Cette boucle est inutile. Il suffit de saisir \\code{a=cos(b)}. L'élément de base de R est la matrice dont le vecteur est un cas particulier.\n",
    "2. Une solution consiste à sommer les éléments `TRUE` d'un vecteur logique "
   ]
  },
  {
   "cell_type": "code",
   "execution_count": null,
   "metadata": {},
   "outputs": [],
   "source": [
    "x=runif(10);y=sum(x>0.5)\n",
    "z=10-y\n",
    "y;z"
   ]
  },
  {
   "cell_type": "markdown",
   "metadata": {},
   "source": [
    "3.Suppression de boucles\n",
    "\n",
    "   - Boucle `for` sur `j`"
   ]
  },
  {
   "cell_type": "code",
   "execution_count": null,
   "metadata": {},
   "outputs": [],
   "source": [
    "for (i in 1:5) res[i]=sum(M[i,])\n",
    "res"
   ]
  },
  {
   "cell_type": "markdown",
   "metadata": {},
   "source": [
    "   - Deux boucles"
   ]
  },
  {
   "cell_type": "code",
   "execution_count": null,
   "metadata": {},
   "outputs": [],
   "source": [
    "res=apply(M,1,sum)\n",
    "res"
   ]
  },
  {
   "cell_type": "markdown",
   "metadata": {},
   "source": [
    "## Fonctions\n",
    "### Principes\n",
    "Il est possible sous R de construire ses propres fonctions. Il est conseillé d'écrire sa fonction dans un fichier `nomfonction.R`.  \n",
    "\n",
    "    source(\"nomfonction.R\")\n",
    "    \n",
    "a pour effet de charger la fonction dans l'environnempent de travail.  Il est aussi possible de définir directement la fonction par la syntaxe suivante :\n",
    "\n",
    "    nomfonction=function(arg1[=exp1],arg2[=exp2],...)\n",
    "        {\n",
    "        bloc d'instructions\n",
    "        sortie = ...\n",
    "        return(sortie)\n",
    "        }\n",
    "\n",
    "Les accolades signalent le début et la fin du code source de la fonction, les crochets indiquent le caractère facultatif des valeurs par défaut des arguments. L'objet sortie contient le ou les résultats retournés par la fonction, on peut en particulier utiliser une liste pour retourner plusieurs résultats.\n",
    "\n",
    "### Exemples\n",
    "Création d'une fonction élémentaire."
   ]
  },
  {
   "cell_type": "code",
   "execution_count": null,
   "metadata": {},
   "outputs": [],
   "source": [
    "MaFonction=function(x){x+2}\n",
    "ls()"
   ]
  },
  {
   "cell_type": "code",
   "execution_count": null,
   "metadata": {},
   "outputs": [],
   "source": [
    "MaFonction"
   ]
  },
  {
   "cell_type": "code",
   "execution_count": null,
   "metadata": {},
   "outputs": [],
   "source": [
    "MaFonction(3)"
   ]
  },
  {
   "cell_type": "code",
   "execution_count": null,
   "metadata": {},
   "outputs": [],
   "source": [
    "x = MaFonction(4);x"
   ]
  },
  {
   "cell_type": "markdown",
   "metadata": {},
   "source": [
    "Gestion des paramètres avec une valeur par défaut."
   ]
  },
  {
   "cell_type": "code",
   "execution_count": null,
   "metadata": {},
   "outputs": [],
   "source": [
    "Fonction2=function(a,b=7){a+b}\n",
    "Fonction2(2,b=3)"
   ]
  },
  {
   "cell_type": "code",
   "execution_count": null,
   "metadata": {},
   "outputs": [],
   "source": [
    "Fonction2(5)"
   ]
  },
  {
   "cell_type": "markdown",
   "metadata": {},
   "source": [
    "Résultats multiples dans un objet de type liste. "
   ]
  },
  {
   "cell_type": "code",
   "execution_count": null,
   "metadata": {},
   "outputs": [],
   "source": [
    "Calcule=function(r){\n",
    "    p=2*pi*r;s=pi*r*r;\n",
    "    list(rayon=r,perimetre=p,\n",
    "    surface=s)}\n",
    "resultat=Calcule(3)\n",
    "resultat$ray"
   ]
  },
  {
   "cell_type": "code",
   "execution_count": null,
   "metadata": {},
   "outputs": [],
   "source": [
    "2*pi*resultat$r==resultat$perim\n",
    "resultat$surface"
   ]
  },
  {
   "cell_type": "markdown",
   "metadata": {},
   "source": [
    "**Questions**\n",
    "1. le recours à un objet de type `list` est-il indispensable pour la fonction `Calcule()` ?\n",
    "2. Ecrire une fonction qui calcule le périmètre et la surface d'un rectangle à partir des longueurs l1 et l2 des deux côtés. La fonction renvoie également la longueur et la largeur du rectangle.\n",
    "3. Ecrire une fonction qui calcule les *n* premiers termes de la suite de Fibonacci:\n",
    "*u_1=0, u_2=1*, pour tout *n>2,  u_n=u_{n-1}+u_{n-2}*\n",
    "4. Utiliser cette fonction pour calculer le rapport entre 2 termes consécutifs. Représenter ce rapport en fonction du nombre de termes pour *n=20*. Que constatez-vous ? Avez-vous lu *Da Vinci Code* ?\n",
    "5. Ecrire une fonction qui supprime les lignes d'un `data.frame` ou d'une matrice présentant au moins une valeur manquante.\n",
    "\n",
    "**Réponses**\n",
    "\n",
    "1. Les 3 éléments à renvoyer étant de type numérique, un vecteur peut suffire.\n",
    "2. Fonction `rectangle()` (la fonction `rect()` existe déjà):"
   ]
  },
  {
   "cell_type": "code",
   "execution_count": null,
   "metadata": {},
   "outputs": [],
   "source": [
    "rectangle=function(l1,l2){\n",
    "    p=(l1+l2)*2\n",
    "    s=l1*l2\n",
    "    list(largeur=min(l1,l2),longueur=max(l1,l2),\n",
    "    perimetre=p,surface=s)}\n",
    "rectangle(4,6)"
   ]
  },
  {
   "cell_type": "markdown",
   "metadata": {},
   "source": [
    "3.Utilisation de la fonction pour calculer les n premiers termes de la suite de Fibonacci:"
   ]
  },
  {
   "cell_type": "code",
   "execution_count": null,
   "metadata": {},
   "outputs": [],
   "source": [
    "fibo=function(n){\n",
    "    res=rep(0,n);res[1]=0;res[2]=1\n",
    "    for (i in 3:n) res[i]=res[i-1]+res[i-2]\n",
    "    res}\n",
    "# Calcul du rapport de 2 termes consécutifs\n",
    "res=fibo(20)\n",
    "ratio=res[2:20]/res[1:19]\n",
    "plot(1:19,ratio,type=\"b\")"
   ]
  },
  {
   "cell_type": "markdown",
   "metadata": {},
   "source": [
    "Le rapport tend vers le nombre d'or $\\frac{1+\\sqrt{5}}{2} \\approx 1.618034$.\n",
    "\n",
    "4.Une façon, parmi beaucoup d'autres, de répondre à la question consiste à créer une fonction `ligne.NA` qui repère s'il y a au moins une valeur manquante dans un vecteur. Cette fonction filtre les lignes en question."
   ]
  },
  {
   "cell_type": "code",
   "execution_count": null,
   "metadata": {},
   "outputs": [],
   "source": [
    "ligne.NA=function(vec){any(is.na(vec))}\n",
    "filtre.NA=function(mat){ \n",
    "    tmp = apply(mat,1,ligne.NA)\n",
    "    mat[!tmp,]}\n",
    "# Application sur une matrice de test\n",
    "matrice.test = matrix(1:40,nc=5)\n",
    "matrice.test[2,5]=NA;matrice.test[4,2]=NA\n",
    "matrice.test[7,1]=NA;matrice.test[7,5]=NA\n",
    "matrice.test"
   ]
  },
  {
   "cell_type": "code",
   "execution_count": null,
   "metadata": {},
   "outputs": [],
   "source": [
    "filtre.NA(matrice.test)"
   ]
  },
  {
   "cell_type": "markdown",
   "metadata": {},
   "source": [
    "## Commandes de type `apply`\n",
    "Comme déjà expliqué, il est vivement recommandé d'éviter les boucles très chronophages. La fonction `apply` et ses variantes sur des vecteurs, matrices ou listes permettent d'appliquer une même fonction `FUN` sur toutes les lignes `(MARGIN=1)` ou les colonnes `(MARGIN=2)` d'une matrice `MAT`:\n",
    "\n",
    "    apply(MAT , MARGIN, FUN)}\n",
    "\n",
    "Les fonctions `lapply` et `sapply` calculent la même fonction sur tous les éléments d'un vecteur ou d'une liste.\n",
    "\n",
    "    lapply(X,FUN, ARG.COMMUN)} \n",
    "\n",
    "permet d'appliquer la fonction `FUN` à tous les éléments du vecteur ou de la liste X. Les valeurs de X sont affectées au premier argument de la fonction `FUN`. Si la fonction FUN a plusieurs paramètres d'entrée, ils sont spécifiés dans `ARG.COMMUN`. Cette fonction retourne le résultat sous la forme de listes. \n",
    "\n",
    "La fonction `sapply` est similaire à `lapply` mais le résultat est retourné si possible sous forme de vecteurs.\n",
    "\n",
    "    tapply(X,GRP,FUN,...)\n",
    "     \n",
    "applique une fonction `FUN` sur les sous-groupes d'un vecteur `X` définis par une variable  `GRP` de type `factor`. \n",
    "\n",
    "Exemples :"
   ]
  },
  {
   "cell_type": "code",
   "execution_count": null,
   "metadata": {},
   "outputs": [],
   "source": [
    "data(iris)\n",
    "apply(iris[,1:4],2,sum)"
   ]
  },
  {
   "cell_type": "code",
   "execution_count": null,
   "metadata": {},
   "outputs": [],
   "source": [
    "lapply(iris[,1:4],sum)"
   ]
  },
  {
   "cell_type": "code",
   "execution_count": null,
   "metadata": {},
   "outputs": [],
   "source": [
    "sapply(iris[,1:4],sum)"
   ]
  },
  {
   "cell_type": "code",
   "execution_count": null,
   "metadata": {},
   "outputs": [],
   "source": [
    "tapply(iris[,1],iris[,5],sum)"
   ]
  },
  {
   "cell_type": "markdown",
   "metadata": {
    "collapsed": true
   },
   "source": []
  }
 ],
 "metadata": {
  "kernelspec": {
   "display_name": "R",
   "language": "R",
   "name": "ir"
  },
  "language_info": {
   "codemirror_mode": "r",
   "file_extension": ".r",
   "mimetype": "text/x-r-source",
   "name": "R",
   "pygments_lexer": "r",
   "version": "3.6.1"
  }
 },
 "nbformat": 4,
 "nbformat_minor": 1
}
